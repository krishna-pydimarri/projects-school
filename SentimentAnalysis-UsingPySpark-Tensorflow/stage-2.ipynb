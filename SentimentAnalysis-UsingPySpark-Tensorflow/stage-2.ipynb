{
 "cells": [
  {
   "cell_type": "code",
   "execution_count": 71,
   "metadata": {},
   "outputs": [],
   "source": [
    "from pyspark.sql import SparkSession\n",
    "import numpy as np\n",
    "from pyspark import SparkContext\n",
    "from pyspark.sql import HiveContext\n",
    "from pyspark.sql import functions as F\n",
    "from pyspark.sql.types import *\n",
    "from pyspark.sql.functions import *\n",
    "import datetime"
   ]
  },
  {
   "cell_type": "code",
   "execution_count": 72,
   "metadata": {},
   "outputs": [],
   "source": [
    "start_time = datetime.datetime.now()"
   ]
  },
  {
   "cell_type": "code",
   "execution_count": 73,
   "metadata": {},
   "outputs": [],
   "source": [
    "spark = SparkSession \\\n",
    "    .builder \\\n",
    "    .appName(\"Assignment2 - COMP5349 - Stage 2\") \\\n",
    "    .getOrCreate()\n",
    "sqlContext = HiveContext(sc)"
   ]
  },
  {
   "cell_type": "code",
   "execution_count": 74,
   "metadata": {},
   "outputs": [],
   "source": [
    "awsData = \"s3://amazon-reviews-pds/tsv/amazon_reviews_us_Music_v1_00.tsv.gz\""
   ]
  },
  {
   "cell_type": "code",
   "execution_count": 75,
   "metadata": {
    "scrolled": true
   },
   "outputs": [
    {
     "name": "stdout",
     "output_type": "stream",
     "text": [
      "root\n",
      " |-- marketplace: string (nullable = true)\n",
      " |-- customer_id: string (nullable = true)\n",
      " |-- review_id: string (nullable = true)\n",
      " |-- product_id: string (nullable = true)\n",
      " |-- product_parent: string (nullable = true)\n",
      " |-- product_title: string (nullable = true)\n",
      " |-- product_category: string (nullable = true)\n",
      " |-- star_rating: string (nullable = true)\n",
      " |-- helpful_votes: string (nullable = true)\n",
      " |-- total_votes: string (nullable = true)\n",
      " |-- vine: string (nullable = true)\n",
      " |-- verified_purchase: string (nullable = true)\n",
      " |-- review_headline: string (nullable = true)\n",
      " |-- review_body: string (nullable = true)\n",
      " |-- review_date: string (nullable = true)"
     ]
    }
   ],
   "source": [
    "#Read music data from csv file stored in AWS\n",
    "musicData = spark.read.csv(awsData,header=True,sep='\\t')\n",
    "musicData.printSchema()"
   ]
  },
  {
   "cell_type": "code",
   "execution_count": 76,
   "metadata": {},
   "outputs": [],
   "source": [
    "#Select only the required fields\n",
    "requiredData = musicData.select('customer_id','product_id','star_rating','review_id','review_body')\n",
    "requiredData = requiredData.repartition(100)\n",
    "#requiredData.show(5)"
   ]
  },
  {
   "cell_type": "code",
   "execution_count": 77,
   "metadata": {},
   "outputs": [
    {
     "name": "stdout",
     "output_type": "stream",
     "text": [
      "+-----------+----------+-----------+--------------+--------------------+-------------------+\n",
      "|customer_id|product_id|star_rating|     review_id|         review_body|Number_Of_Sentences|\n",
      "+-----------+----------+-----------+--------------+--------------------+-------------------+\n",
      "|   15245952|B0012GMUY0|          5|R3DD1TI7T7AZU5|Allman,Trucks and...|                  2|\n",
      "|     372935|B00030B9FW|          5| RF7XIGVVGFXEV|Wonderful tv jazz...|                  3|\n",
      "|   50736950|B00000IWVW|          3|R1329J6F9LDZ3U|this set isn't ba...|                  5|\n",
      "|   49837680|B00001X590|          5|R142PTIHMM25N9|I have the old on...|                  8|\n",
      "|   39168843|B00005CEP5|          5|R2HFD37NLHB9P9|The songs are sun...|                  8|\n",
      "+-----------+----------+-----------+--------------+--------------------+-------------------+\n",
      "only showing top 5 rows"
     ]
    }
   ],
   "source": [
    "#Split the review body based on '.' or '?'\n",
    "reviewBody=requiredData.withColumn('Number_Of_Sentences', size(split(col(\"review_body\"), r\"\\.|\\?\")) - 1).cache()\n",
    "reviewBody.show(5)"
   ]
  },
  {
   "cell_type": "code",
   "execution_count": 78,
   "metadata": {},
   "outputs": [
    {
     "name": "stdout",
     "output_type": "stream",
     "text": [
      "3875475"
     ]
    }
   ],
   "source": [
    "#Remove fields with less than 2 number of sentences\n",
    "reviewWithMoreThanTwoSentence = reviewBody.filter(col(\"Number_Of_Sentences\") >= 2)\n",
    "reviewWithMoreThanTwoSentence.cache()\n",
    "reviewWithMoreThanTwoSentence.count()"
   ]
  },
  {
   "cell_type": "code",
   "execution_count": 79,
   "metadata": {},
   "outputs": [
    {
     "name": "stdout",
     "output_type": "stream",
     "text": [
      "+-----------+----------+-----------+--------------+--------------------+-------------------+\n",
      "|customer_id|product_id|star_rating|     review_id|         review_body|Number_Of_Sentences|\n",
      "+-----------+----------+-----------+--------------+--------------------+-------------------+\n",
      "|   15245952|B0012GMUY0|          5|R3DD1TI7T7AZU5|Allman,Trucks and...|                  2|\n",
      "|     372935|B00030B9FW|          5| RF7XIGVVGFXEV|Wonderful tv jazz...|                  3|\n",
      "|   50736950|B00000IWVW|          3|R1329J6F9LDZ3U|this set isn't ba...|                  5|\n",
      "|   49837680|B00001X590|          5|R142PTIHMM25N9|I have the old on...|                  8|\n",
      "|   39168843|B00005CEP5|          5|R2HFD37NLHB9P9|The songs are sun...|                  8|\n",
      "+-----------+----------+-----------+--------------+--------------------+-------------------+\n",
      "only showing top 5 rows"
     ]
    }
   ],
   "source": [
    "reviewWithMoreThanTwoSentence.show(5)"
   ]
  },
  {
   "cell_type": "code",
   "execution_count": 80,
   "metadata": {},
   "outputs": [
    {
     "name": "stdout",
     "output_type": "stream",
     "text": [
      "+-----------+-----+\n",
      "|customer_id|count|\n",
      "+-----------+-----+\n",
      "|   32370558|    1|\n",
      "|   35294520|    1|\n",
      "|   50991029|    1|\n",
      "|    6209942|    1|\n",
      "|   51033615|    1|\n",
      "+-----------+-----+\n",
      "only showing top 5 rows"
     ]
    }
   ],
   "source": [
    "#Group by customer_id to get total number of reviews published\n",
    "users = reviewWithMoreThanTwoSentence.groupBy(\"customer_id\").count().sort(col(\"count\"))\n",
    "users.show(5)"
   ]
  },
  {
   "cell_type": "code",
   "execution_count": 81,
   "metadata": {},
   "outputs": [
    {
     "name": "stdout",
     "output_type": "stream",
     "text": [
      "1598204"
     ]
    }
   ],
   "source": [
    "#caching to reduce processing time\n",
    "users.cache()\n",
    "users.count()"
   ]
  },
  {
   "cell_type": "code",
   "execution_count": 82,
   "metadata": {},
   "outputs": [
    {
     "name": "stdout",
     "output_type": "stream",
     "text": [
      "('User median: ', [1.0])"
     ]
    }
   ],
   "source": [
    "#Calculate median\n",
    "userMedian = users.approxQuantile(\"count\", [0.5], 0)\n",
    "print(\"User median: \", userMedian)"
   ]
  },
  {
   "cell_type": "code",
   "execution_count": 83,
   "metadata": {},
   "outputs": [],
   "source": [
    "#Remove users with less than median number of reviews published\n",
    "usersWithMoreThanMedianReviews = users.where(col(\"count\") > userMedian[0])\n",
    "#usersWithMoreThanMedianReviews.show(5)"
   ]
  },
  {
   "cell_type": "code",
   "execution_count": 84,
   "metadata": {
    "scrolled": true
   },
   "outputs": [],
   "source": [
    "usersWithMoreThanMedianReviews = usersWithMoreThanMedianReviews.select(col(\"customer_id\").alias(\"user_customer_id\"), col(\"count\"))"
   ]
  },
  {
   "cell_type": "code",
   "execution_count": 85,
   "metadata": {},
   "outputs": [
    {
     "name": "stdout",
     "output_type": "stream",
     "text": [
      "2747750"
     ]
    }
   ],
   "source": [
    "#Join filtered data with reviewWithMoreThanTwoSentence \n",
    "innerJoin = reviewWithMoreThanTwoSentence.join(usersWithMoreThanMedianReviews, reviewWithMoreThanTwoSentence.customer_id == usersWithMoreThanMedianReviews.user_customer_id, \"inner\")\n",
    "innerJoin.cache()\n",
    "innerJoin.count()\n",
    "#innerJoin.show(5)"
   ]
  },
  {
   "cell_type": "code",
   "execution_count": 86,
   "metadata": {},
   "outputs": [
    {
     "name": "stdout",
     "output_type": "stream",
     "text": [
      "200"
     ]
    }
   ],
   "source": [
    "innerJoin.rdd.getNumPartitions()"
   ]
  },
  {
   "cell_type": "code",
   "execution_count": 87,
   "metadata": {},
   "outputs": [
    {
     "name": "stdout",
     "output_type": "stream",
     "text": [
      "593788"
     ]
    }
   ],
   "source": [
    "#Group by producta_id to get total number of reviews received\n",
    "product = innerJoin.groupBy(\"product_id\").count().sort(col(\"count\"))\n",
    "product.cache()\n",
    "product.count()\n",
    "#product.show(5)"
   ]
  },
  {
   "cell_type": "code",
   "execution_count": 88,
   "metadata": {},
   "outputs": [
    {
     "name": "stdout",
     "output_type": "stream",
     "text": [
      "('Product median', [1.0])"
     ]
    }
   ],
   "source": [
    "#Calucluate median\n",
    "prodMedian = product.approxQuantile(\"count\", [0.5], 0)\n",
    "print(\"Product median\", prodMedian)"
   ]
  },
  {
   "cell_type": "code",
   "execution_count": 89,
   "metadata": {},
   "outputs": [],
   "source": [
    "product = product.select(col(\"product_id\").alias(\"prod_id\"), col(\"count\").alias(\"product_count\"))\n",
    "#product.show(5)"
   ]
  },
  {
   "cell_type": "code",
   "execution_count": 90,
   "metadata": {},
   "outputs": [],
   "source": [
    "#Remove products with less than median number of reviews received\n",
    "productsWithMoreThanMedianReviews = product.where(col(\"product_count\") > prodMedian[0])\n",
    "#productsWithMoreThanMedianReviews.show(5)"
   ]
  },
  {
   "cell_type": "code",
   "execution_count": 91,
   "metadata": {},
   "outputs": [],
   "source": [
    "productInnerJoin = innerJoin.join(productsWithMoreThanMedianReviews, innerJoin.product_id == productsWithMoreThanMedianReviews.prod_id, \"inner\")\n",
    "#productInnerJoin.show(5)"
   ]
  },
  {
   "cell_type": "code",
   "execution_count": 92,
   "metadata": {},
   "outputs": [
    {
     "name": "stdout",
     "output_type": "stream",
     "text": [
      "463099"
     ]
    }
   ],
   "source": [
    "#Calculate users number of sentences in the reviews they have published\n",
    "topTenUsers = productInnerJoin.groupBy(\"customer_id\").agg(F.collect_set(\"review_id\"), F.collect_list(\"Number_Of_Sentences\"))\n",
    "topTenUsers.cache()\n",
    "topTenUsers.count()\n",
    "#topTenUsers.show(5)"
   ]
  },
  {
   "cell_type": "code",
   "execution_count": 93,
   "metadata": {},
   "outputs": [],
   "source": [
    "def media_calc(list_sent_count):\n",
    "    median_val=np.median(list_sent_count)\n",
    "    return int(median_val)"
   ]
  },
  {
   "cell_type": "code",
   "execution_count": 94,
   "metadata": {},
   "outputs": [
    {
     "name": "stdout",
     "output_type": "stream",
     "text": [
      "+-----------+----------------------+---------------------------------+----------+\n",
      "|customer_id|collect_set(review_id)|collect_list(Number_Of_Sentences)|median_val|\n",
      "+-----------+----------------------+---------------------------------+----------+\n",
      "|   10010810|  [R53XG9B98548F, R...|                          [7, 10]|         8|\n",
      "|   10021653|      [R2VQWQVRKY22C1]|                              [7]|         7|\n",
      "|   10071733|  [R3V8SWVNXRMQE6, ...|             [5, 23, 36, 27, 9...|        16|\n",
      "|   10077989|  [R35R5UJZD2S3KL, ...|                          [10, 3]|         6|\n",
      "|   10081213|  [R1KXZ2BUVLGDJ3, ...|                    [7, 21, 9, 7]|         8|\n",
      "+-----------+----------------------+---------------------------------+----------+\n",
      "only showing top 5 rows"
     ]
    }
   ],
   "source": [
    "#Remove users with less than median number of sentences they have published\n",
    "median_calc_udf=udf(media_calc, IntegerType())\n",
    "topUsers_withMedian=topTenUsers.withColumn(\"median_val\", median_calc_udf(col(\"collect_list(Number_Of_Sentences)\")))\n",
    "topUsers_withMedian.show(5)"
   ]
  },
  {
   "cell_type": "code",
   "execution_count": 95,
   "metadata": {},
   "outputs": [
    {
     "name": "stdout",
     "output_type": "stream",
     "text": [
      "+-----------+----------+\n",
      "|customer_id|median_val|\n",
      "+-----------+----------+\n",
      "|   40611822|       810|\n",
      "|   50611589|       708|\n",
      "|   15741015|       648|\n",
      "|   31354040|       427|\n",
      "|   50595705|       317|\n",
      "|   25628286|       298|\n",
      "|   28331791|       257|\n",
      "|   32626976|       255|\n",
      "|   51865782|       252|\n",
      "|   35846990|       239|\n",
      "+-----------+----------+"
     ]
    }
   ],
   "source": [
    "#Limits it to top 10 users\n",
    "topTenUsers = topUsers_withMedian.select(col(\"customer_id\"), col(\"median_val\")).orderBy(\"median_val\", ascending=False)\n",
    "topTenUsers = topTenUsers.limit(10)\n",
    "topTenUsers.show()"
   ]
  },
  {
   "cell_type": "code",
   "execution_count": 96,
   "metadata": {},
   "outputs": [
    {
     "name": "stdout",
     "output_type": "stream",
     "text": [
      "293133"
     ]
    }
   ],
   "source": [
    "#Calculate products number of sentences in the reviews they have received\n",
    "topTenProducts = productInnerJoin.groupBy(\"product_id\").agg(F.collect_set(\"review_id\"), F.collect_list(\"Number_Of_Sentences\"))\n",
    "topTenProducts.cache()\n",
    "topTenProducts.count()\n",
    "#topTenProducts.show(10)"
   ]
  },
  {
   "cell_type": "code",
   "execution_count": 97,
   "metadata": {},
   "outputs": [],
   "source": [
    "#Remove products with less than median number of sentences they have received\n",
    "median_calc_udf=udf(media_calc, IntegerType())\n",
    "topTenProducts_withMedian=topTenProducts.withColumn(\"median_val\", median_calc_udf(col(\"collect_list(Number_Of_Sentences)\")))\n",
    "#topTenProducts_withMedian.show(5)"
   ]
  },
  {
   "cell_type": "code",
   "execution_count": 98,
   "metadata": {},
   "outputs": [
    {
     "name": "stdout",
     "output_type": "stream",
     "text": [
      "+----------+----------+\n",
      "|product_id|median_val|\n",
      "+----------+----------+\n",
      "|B000ICM710|       411|\n",
      "|B00T7TYTCK|       400|\n",
      "|B000GUK040|       297|\n",
      "|B000BFNZ6U|       272|\n",
      "|B00PYI2VY6|       250|\n",
      "|B0002IJNGC|       249|\n",
      "|B0002MQ7CQ|       246|\n",
      "|B00HSP0P0U|       242|\n",
      "|B000RY431G|       241|\n",
      "|B000LGN00K|       239|\n",
      "+----------+----------+"
     ]
    }
   ],
   "source": [
    "#Limit it to top 10 products\n",
    "topTenProducts = topTenProducts_withMedian.select(col(\"product_id\"), col(\"median_val\")).orderBy(\"median_val\", ascending=False)\n",
    "topTenProducts = topTenProducts.limit(10)\n",
    "topTenProducts.show()"
   ]
  },
  {
   "cell_type": "code",
   "execution_count": 99,
   "metadata": {},
   "outputs": [],
   "source": [
    "end_time = datetime.datetime.now()"
   ]
  },
  {
   "cell_type": "code",
   "execution_count": 100,
   "metadata": {},
   "outputs": [
    {
     "name": "stdout",
     "output_type": "stream",
     "text": [
      "('Execution time: ', '0:01:02.512454')"
     ]
    }
   ],
   "source": [
    "print(\"Execution time: \", str(end_time-start_time))"
   ]
  },
  {
   "cell_type": "code",
   "execution_count": null,
   "metadata": {},
   "outputs": [],
   "source": []
  }
 ],
 "metadata": {
  "kernelspec": {
   "display_name": "PySpark",
   "language": "",
   "name": "pysparkkernel"
  },
  "language_info": {
   "codemirror_mode": {
    "name": "python",
    "version": 2
   },
   "mimetype": "text/x-python",
   "name": "pyspark",
   "pygments_lexer": "python2"
  }
 },
 "nbformat": 4,
 "nbformat_minor": 2
}
